{
 "cells": [
  {
   "cell_type": "code",
   "execution_count": 7,
   "metadata": {
    "scrolled": false
   },
   "outputs": [],
   "source": [
    "#Chap 12. riss.kr 사이트에서 특정 키워드로 자동 검색하기\n",
    "\n",
    "#Step 1. 필요한 모듈을 로딩합니다\n",
    "from selenium import webdriver\n",
    "from selenium.webdriver.common.by import By\n",
    "from selenium.webdriver.common.keys import Keys\n",
    "from selenium.webdriver.chrome.service import Service\n",
    "import time          \n",
    "\n",
    "#Step 2. 사용자에게 검색 관련 정보들을 입력 받습니다.\n",
    "# print(\"=\" *100)\n",
    "# print(\" 이 크롤러는 riss 사이트의 논문 자료 수집용 웹크롤러입니다.\")\n",
    "# print(\"=\" *100)\n",
    "# query_txt = input('1.수집할 자료의 키워드는 무엇입니까?(예: 해양자원): ')\n",
    "# print(\"\\n\")\n",
    "\n",
    "#Step 3. 크롬 드라이버 설정 및 웹 페이지 열기\n",
    "# 크롬 드라이버 설정하는 최신 문법\n",
    "s = Service(\"/Users/gimhagyeong/Downloads/chromedriver\")\n",
    "driver = webdriver.Chrome(service=s)\n",
    "\n",
    "# chrome_path = \"/Users/gimhagyeong/Downloads/chromedriver\"\n",
    "# driver = webdriver.Chrome(chrome_path)\n",
    "\n",
    "\n",
    "url = 'https://www.koreatech.ac.kr/kor/Main.do'\n",
    "driver.get(url)\n",
    "time.sleep(5)\n",
    "driver.maximize_window()\n",
    "\n",
    "#Step 4. 자동으로 검색어 입력 후 조회하기\n",
    "# element = driver.find_element(By.ID,'query')\n",
    "# driver.find_element(By.ID,'query').click( )\n",
    "# element.send_keys(query_txt)\n",
    "# element.send_keys(\"\\n\")\n",
    "\n",
    "query_text = \"장학금\"\n",
    "driver.find_element(By.XPATH, '// *[@id=\"header-wrap\"]/a ').click()\n",
    "time.sleep(3)\n",
    "\n",
    "element = driver.find_element(By.ID, 'searchKeyword')\n",
    "driver.find_element(By.ID, 'searchKeyword').click()\n",
    "element.send_keys(query_text)\n",
    "element.send_keys(\"\\n\")\n",
    "\n",
    "\n",
    "\n"
   ]
  },
  {
   "cell_type": "code",
   "execution_count": null,
   "metadata": {},
   "outputs": [],
   "source": []
  }
 ],
 "metadata": {
  "kernelspec": {
   "display_name": "Python 3.11.0 64-bit",
   "language": "python",
   "name": "python3"
  },
  "language_info": {
   "codemirror_mode": {
    "name": "ipython",
    "version": 3
   },
   "file_extension": ".py",
   "mimetype": "text/x-python",
   "name": "python",
   "nbconvert_exporter": "python",
   "pygments_lexer": "ipython3",
   "version": "3.11.0"
  },
  "vscode": {
   "interpreter": {
    "hash": "aee8b7b246df8f9039afb4144a1f6fd8d2ca17a180786b69acc140d282b71a49"
   }
  }
 },
 "nbformat": 4,
 "nbformat_minor": 2
}
